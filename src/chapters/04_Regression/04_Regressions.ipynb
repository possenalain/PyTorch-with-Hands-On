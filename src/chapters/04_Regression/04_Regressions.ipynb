{
 "cells": [
  {
   "cell_type": "markdown",
   "metadata": {},
   "source": [
    "```markdown\n",
    "## 1. linear regression\n",
    "## 2. logistic regression\n",
    "```"
   ]
  },
  {
   "cell_type": "code",
   "execution_count": null,
   "metadata": {},
   "outputs": [],
   "source": [
    "import torch \n",
    "import torch.nn as nn\n",
    "\n",
    "\n",
    "import numpy as np\n",
    "import matplotlib.pyplot as plt\n",
    "\n",
    "from sklearn import datasets\n",
    "from sklearn.model_selection import train_test_split\n",
    "from sklearn.preprocessing import StandardScaler"
   ]
  },
  {
   "cell_type": "markdown",
   "metadata": {},
   "source": [
    "**Linear regression**\n"
   ]
  },
  {
   "cell_type": "code",
   "execution_count": null,
   "metadata": {},
   "outputs": [],
   "source": [
    "\"\"\"DATA\"\"\"\n",
    "# let's create sample data\n",
    "X, y = datasets.make_regression(n_samples=100, \n",
    "                                            n_features=1, \n",
    "                                            noise=20, \n",
    "                                            random_state=4)\n",
    "\n",
    "# split the data into training and testing .8 and .2\n",
    "X_train, X_test, y_train, y_test = train_test_split(X, \n",
    "                                                    y, \n",
    "                                                    test_size=0.2, \n",
    "                                                    random_state=1234)\n",
    "\n",
    "print(f\"x_train: {X_train.shape} - y_train: {y_train.shape}\")\n",
    "print(f\"x_test : {X_test.shape} - y_test : {y_test.shape}\")"
   ]
  },
  {
   "cell_type": "code",
   "execution_count": null,
   "metadata": {},
   "outputs": [],
   "source": [
    "# # visualize the data\n",
    "plt.figure(figsize=(4, 3))\n",
    "plt.scatter(X_train, y_train, s=3,label=\"Training Data\", color='b')\n",
    "plt.scatter(X_test, y_test, s=3, label=\"Testing Data\", color='g')\n",
    "plt.legend()"
   ]
  },
  {
   "cell_type": "code",
   "execution_count": null,
   "metadata": {},
   "outputs": [],
   "source": [
    "# have data to tensors # or to device\n",
    "X_train = torch.from_numpy(X_train).view(-1, 1).to(dtype=torch.float32)\n",
    "y_train = torch.from_numpy(y_train).view(-1, 1).to(dtype=torch.float32)\n",
    "X_test = torch.from_numpy(X_test).view(-1, 1).to(dtype=torch.float32)\n",
    "y_test = torch.from_numpy(y_test).view(-1, 1).to(dtype=torch.float32)\n",
    "\n",
    "X_train.shape, y_train.shape, X_test.shape, y_test.shape    "
   ]
  },
  {
   "cell_type": "code",
   "execution_count": null,
   "metadata": {},
   "outputs": [],
   "source": [
    "\"\"\" MODEL \"\"\"\n",
    "class LinearRegression(nn.Module):\n",
    "    def __init__(self, input_dim, output_dim):\n",
    "        super(LinearRegression, self).__init__()\n",
    "        self.block1 = nn.Sequential(\n",
    "            nn.Linear(input_dim, 32, bias=True),\n",
    "            nn.ReLU()\n",
    "        )\n",
    "        self.linear2 = nn.Linear(32, output_dim, bias=True)\n",
    "    \n",
    "    def forward(self, x):\n",
    "        x = self.block1(x)\n",
    "        x = self.linear2(x)\n",
    "        return x"
   ]
  },
  {
   "cell_type": "code",
   "execution_count": null,
   "metadata": {},
   "outputs": [],
   "source": [
    "# model \n",
    "input_dim = X_train.shape[1]\n",
    "output_dim = 1\n",
    "model = LinearRegression(input_dim, output_dim)\n",
    "\n",
    "# loss and optimizer\n",
    "loss_fn = nn.L1Loss()\n",
    "optimizer = torch.optim.SGD(model.parameters(), lr=0.0125)\n",
    "\n",
    "\"\"\" TRAINING \"\"\"\n",
    "epochs = 500\n",
    "for epoch in range(epochs):\n",
    "    # forward pass\n",
    "    outputs = model(X_train)\n",
    "    loss = loss_fn(outputs, y_train)\n",
    "\n",
    "    # backward pass\n",
    "    optimizer.zero_grad()\n",
    "    loss.backward()\n",
    "    optimizer.step()\n",
    "\n",
    "    # inference \n",
    "    with torch.no_grad():\n",
    "        outputs = model(X_test)\n",
    "        test_loss = loss_fn(outputs, y_test)\n",
    "        \n",
    "        if (epoch+1) % 50 == 0:\n",
    "            print(f\"epoch: {epoch+1}, loss: {loss.item():.2f} - Test_loss: {test_loss.item():.2f}\")"
   ]
  },
  {
   "cell_type": "markdown",
   "metadata": {},
   "source": [
    "**Logistic regression**\n"
   ]
  },
  {
   "cell_type": "code",
   "execution_count": 1,
   "metadata": {},
   "outputs": [],
   "source": [
    "import torch \n",
    "import torch.nn as nn\n",
    "\n",
    "\n",
    "import numpy as np\n",
    "import matplotlib.pyplot as plt\n",
    "\n",
    "from sklearn import datasets\n",
    "from sklearn.model_selection import train_test_split\n",
    "from sklearn.preprocessing import StandardScaler"
   ]
  },
  {
   "cell_type": "code",
   "execution_count": 2,
   "metadata": {},
   "outputs": [
    {
     "data": {
      "text/plain": [
       "((1000, 2), (1000,))"
      ]
     },
     "execution_count": 2,
     "metadata": {},
     "output_type": "execute_result"
    }
   ],
   "source": [
    "\"\"\"Data\"\"\"\n",
    "\n",
    "n_samples = 1000\n",
    "\n",
    "# Create circles\n",
    "X, y = datasets.make_circles(n_samples,\n",
    "                    noise=0.03, \n",
    "                    random_state=42)\n",
    "\n",
    "X.shape, y.shape"
   ]
  },
  {
   "cell_type": "code",
   "execution_count": 3,
   "metadata": {},
   "outputs": [],
   "source": [
    "# #visualize the data\n",
    "# plt.figure(figsize=(6, 5))\n",
    "# plt.scatter(x=X[:, 0], \n",
    "#             y=X[:, 1], \n",
    "#             c=y, \n",
    "#             cmap=plt.cm.RdYlBu)"
   ]
  },
  {
   "cell_type": "code",
   "execution_count": 4,
   "metadata": {},
   "outputs": [],
   "source": [
    "# data to tensors \n",
    "X = torch.from_numpy(X).to(dtype=torch.float32)\n",
    "y = torch.from_numpy(y).to(dtype=torch.float32).view(-1, 1)"
   ]
  },
  {
   "cell_type": "code",
   "execution_count": 5,
   "metadata": {},
   "outputs": [
    {
     "data": {
      "text/plain": [
       "(torch.Size([800, 2]),\n",
       " torch.Size([200, 2]),\n",
       " torch.Size([800, 1]),\n",
       " torch.Size([200, 1]))"
      ]
     },
     "execution_count": 5,
     "metadata": {},
     "output_type": "execute_result"
    }
   ],
   "source": [
    "# test train splits\n",
    "X_train, X_test, y_train, y_test = train_test_split(X,\n",
    "                                                    y,\n",
    "                                                    test_size=0.2,\n",
    "                                                    random_state=42)\n",
    "X_train.shape, X_test.shape, y_train.shape, y_test.shape"
   ]
  },
  {
   "cell_type": "code",
   "execution_count": 13,
   "metadata": {},
   "outputs": [],
   "source": [
    "\"\"\"Model\"\"\"\n",
    "class LogisticNetV1(nn.Module):\n",
    "    def __init__(self):\n",
    "        super(LogisticNetV1, self).__init__()\n",
    "        self.linear_1= nn.Linear(in_features=2, out_features=8)\n",
    "        self.linear_2 = nn.Linear(in_features=8, out_features=1)\n",
    "    \n",
    "    def forward(self, x):\n",
    "        x=self.linear_1(x)\n",
    "        return self.linear_2(x)\n",
    "    \n",
    "class LogisticNetV2(nn.Module):\n",
    "    def __init__(self):\n",
    "        super(LogisticNetV2, self).__init__()\n",
    "        self.linear_1 = nn.Linear(in_features=2, out_features=10)\n",
    "        self.linear_2 = nn.Linear(in_features=10, out_features=10)\n",
    "        self.linear_3 = nn.Linear(in_features=10, out_features=1)\n",
    "    \n",
    "    def forward(self, x):\n",
    "        x = self.linear_1(x)\n",
    "        x = torch.relu(x)\n",
    "        x =self.linear_2(x) \n",
    "        x= torch.tanh(x)\n",
    "        output = self.linear_3(x) \n",
    "        return output"
   ]
  },
  {
   "cell_type": "code",
   "execution_count": 7,
   "metadata": {},
   "outputs": [
    {
     "data": {
      "text/plain": [
       "LogisticNetV1(\n",
       "  (linear_1): Linear(in_features=2, out_features=8, bias=True)\n",
       "  (linear_2): Linear(in_features=8, out_features=1, bias=True)\n",
       ")"
      ]
     },
     "execution_count": 7,
     "metadata": {},
     "output_type": "execute_result"
    }
   ],
   "source": [
    "# get the model to device if \n",
    "# device = \"cuda\" if torch.cuda.is_available() else \"cpu\"\n",
    "device = \"cpu\"\n",
    "model = LogisticNetV1().to(device)\n",
    "\n",
    "model = LogisticNetV1()\n",
    "model\n"
   ]
  },
  {
   "cell_type": "code",
   "execution_count": 8,
   "metadata": {},
   "outputs": [
    {
     "data": {
      "text/plain": [
       "device(type='cpu')"
      ]
     },
     "execution_count": 8,
     "metadata": {},
     "output_type": "execute_result"
    }
   ],
   "source": [
    "next(model.parameters()).device"
   ]
  },
  {
   "cell_type": "code",
   "execution_count": 9,
   "metadata": {},
   "outputs": [
    {
     "data": {
      "text/plain": [
       "tensor([[ 0.0311],\n",
       "        [-0.0110],\n",
       "        [ 0.2333],\n",
       "        [-0.0266]])"
      ]
     },
     "execution_count": 9,
     "metadata": {},
     "output_type": "execute_result"
    }
   ],
   "source": [
    "# # test if model works \n",
    "# torch.manual_seed(42)\n",
    "model = LogisticNetV1().to(device)\n",
    "\n",
    "sample_X ,  sample_y = X_test[:4] , y_test[:4]\n",
    "\n",
    "with torch.no_grad():\n",
    "    y_logits = model(sample_X.to(device))\n",
    "y_logits  \n"
   ]
  },
  {
   "cell_type": "code",
   "execution_count": 10,
   "metadata": {},
   "outputs": [
    {
     "name": "stdout",
     "output_type": "stream",
     "text": [
      "tensor([[True],\n",
      "        [True],\n",
      "        [True],\n",
      "        [True]])\n",
      "1.0\n"
     ]
    }
   ],
   "source": [
    "y_pred_probs = torch.sigmoid(y_logits)\n",
    "y_preds = torch.round(y_pred_probs)\n",
    "# y_pred_labels = torch.round(torch.sigmoid(model(X_test)))\n",
    "\n",
    "# Check for equality\n",
    "print(torch.eq(y_preds, sample_y))\n",
    "print(torch.eq(y_preds, sample_y).sum().item()/len(sample_y))"
   ]
  },
  {
   "cell_type": "code",
   "execution_count": 11,
   "metadata": {},
   "outputs": [],
   "source": [
    "def accuracy_fn(y_true, y_pred):\n",
    "    correct = torch.eq(y_true, y_pred).sum().item() \n",
    "    acc = (correct / len(y_pred)) * 100 \n",
    "    return acc"
   ]
  },
  {
   "cell_type": "code",
   "execution_count": 14,
   "metadata": {},
   "outputs": [
    {
     "name": "stdout",
     "output_type": "stream",
     "text": [
      "Epoch: 0 | Loss: 0.69473, Accuracy: 48.12% | Test loss: 0.69275, Test acc: 48.00%\n",
      "Epoch: 100 | Loss: 0.69113, Accuracy: 50.00% | Test loss: 0.68882, Test acc: 53.00%\n",
      "Epoch: 200 | Loss: 0.68835, Accuracy: 52.75% | Test loss: 0.68572, Test acc: 56.50%\n",
      "Epoch: 300 | Loss: 0.68498, Accuracy: 52.62% | Test loss: 0.68227, Test acc: 56.50%\n",
      "Epoch: 400 | Loss: 0.67983, Accuracy: 55.38% | Test loss: 0.67743, Test acc: 60.50%\n",
      "Epoch: 500 | Loss: 0.67065, Accuracy: 68.50% | Test loss: 0.67011, Test acc: 69.00%\n",
      "Epoch: 600 | Loss: 0.65380, Accuracy: 74.12% | Test loss: 0.65740, Test acc: 69.00%\n",
      "Epoch: 700 | Loss: 0.62371, Accuracy: 82.25% | Test loss: 0.63148, Test acc: 77.50%\n",
      "Epoch: 800 | Loss: 0.56369, Accuracy: 92.62% | Test loss: 0.57930, Test acc: 91.50%\n",
      "Epoch: 900 | Loss: 0.46497, Accuracy: 98.12% | Test loss: 0.49159, Test acc: 96.00%\n"
     ]
    }
   ],
   "source": [
    "\"\"\"Training Loop\"\"\"\n",
    "torch.manual_seed(12345)\n",
    "\n",
    "device = \"cuda\" if torch.cuda.is_available() else \"cpu\"\n",
    "\n",
    "epochs = 1000\n",
    "\n",
    "# model \n",
    "model = LogisticNetV2().to(device)\n",
    "\n",
    "# Create a loss function\n",
    "# loss_fn = nn.BCELoss()\n",
    "loss_fn = nn.BCEWithLogitsLoss() # BCEWithLogitsLoss = sigmoid built-in\n",
    "\n",
    "# Create an optimizer\n",
    "optimizer = torch.optim.SGD(params=model.parameters(), lr=0.1)\n",
    "\n",
    "# data and model to device\n",
    "X_train, y_train = X_train.to(device), y_train.to(device)\n",
    "X_test, y_test = X_test.to(device), y_test.to(device)\n",
    "model.to(device)\n",
    "\n",
    "for epoch in range(epochs):\n",
    "    model.train()\n",
    "\n",
    "    # 1. Forward pass (model outputs raw logits)\n",
    "    y_logits = model(X_train)\n",
    "    y_pred = torch.round(torch.sigmoid(y_logits)) \n",
    "    \n",
    "    # 2. Calculate loss/accuracy\n",
    "    # loss = loss_fn(torch.sigmoid(y_logits), # Using nn.BCELoss you need torch.sigmoid()\n",
    "    #                y_train) \n",
    "    loss = loss_fn(y_logits,y_train) \n",
    "    acc = accuracy_fn(y_true=y_train,y_pred=y_pred) \n",
    "\n",
    "\n",
    "    optimizer.zero_grad()\n",
    "\n",
    "    # 4. Loss backwards\n",
    "    loss.backward()\n",
    "\n",
    "    # 5. Optimizer step\n",
    "    optimizer.step()\n",
    "\n",
    "    ### Testing\n",
    "    model.eval()\n",
    "    with torch.inference_mode():\n",
    "        # 1. Forward pass\n",
    "        test_logits = model(X_test)\n",
    "        test_pred = torch.round(torch.sigmoid(test_logits))\n",
    "        # 2. Caculate loss/accuracy\n",
    "        test_loss = loss_fn(test_logits, y_test)\n",
    "        test_acc = accuracy_fn(y_true=y_test, y_pred=test_pred)\n",
    "    # Print out what's happening every 10 epochs\n",
    "    if epoch % 100 == 0:\n",
    "        print(f\"Epoch: {epoch} | Loss: {loss:.5f}, Accuracy: {acc:.2f}% | Test loss: {test_loss:.5f}, Test acc: {test_acc:.2f}%\")"
   ]
  },
  {
   "cell_type": "markdown",
   "metadata": {},
   "source": [
    "**Multi-class classification**"
   ]
  },
  {
   "cell_type": "code",
   "execution_count": 15,
   "metadata": {},
   "outputs": [
    {
     "data": {
      "image/png": "[encoded data removed]",
      "text/plain": [
       "<Figure size 600x500 with 1 Axes>"
      ]
     },
     "metadata": {},
     "output_type": "display_data"
    }
   ],
   "source": [
    "# Import dependencies\n",
    "import torch\n",
    "import matplotlib.pyplot as plt\n",
    "from sklearn.datasets import make_blobs\n",
    "from sklearn.model_selection import train_test_split\n",
    "\n",
    "# Set the hyperparameters for data creation\n",
    "NUM_CLASSES = 4\n",
    "NUM_FEATURES = 2\n",
    "RANDOM_SEED = 42\n",
    "\n",
    "# 1. Create multi-class data\n",
    "X_blob, y_blob = make_blobs(n_samples=1000,\n",
    "    n_features=NUM_FEATURES, # X features\n",
    "    centers=NUM_CLASSES, # y labels \n",
    "    cluster_std=1.5, # give the clusters a little shake up (try changing this to 1.0, the default)\n",
    "    random_state=RANDOM_SEED\n",
    ")\n",
    "\n",
    "# 2. Turn data into tensors\n",
    "X_blob = torch.from_numpy(X_blob).type(torch.float)\n",
    "y_blob = torch.from_numpy(y_blob).type(torch.LongTensor)\n",
    "# print(X_blob[:5], y_blob[:5])\n",
    "\n",
    "# 3. Split into train and test sets\n",
    "X_blob_train, X_blob_test, y_blob_train, y_blob_test = train_test_split(X_blob,\n",
    "    y_blob,\n",
    "    test_size=0.2,\n",
    "    random_state=RANDOM_SEED\n",
    ")\n",
    "\n",
    "# 4. Plot data\n",
    "plt.figure(figsize=(6, 5))\n",
    "plt.scatter(X_blob[:, 0], X_blob[:, 1], c=y_blob, cmap=plt.cm.RdYlBu);"
   ]
  },
  {
   "cell_type": "code",
   "execution_count": 16,
   "metadata": {},
   "outputs": [
    {
     "data": {
      "text/plain": [
       "'cpu'"
      ]
     },
     "execution_count": 16,
     "metadata": {},
     "output_type": "execute_result"
    }
   ],
   "source": [
    "# Create device agnostic code\n",
    "# device = \"cuda\" if torch.cuda.is_available() else \"cpu\"\n",
    "device = \"cpu\"\n",
    "device"
   ]
  },
  {
   "cell_type": "code",
   "execution_count": 17,
   "metadata": {},
   "outputs": [
    {
     "data": {
      "text/plain": [
       "BlobModel(\n",
       "  (linear_layer_stack): Sequential(\n",
       "    (0): Linear(in_features=2, out_features=8, bias=True)\n",
       "    (1): ReLU()\n",
       "    (2): Linear(in_features=8, out_features=8, bias=True)\n",
       "    (3): ReLU()\n",
       "    (4): Linear(in_features=8, out_features=4, bias=True)\n",
       "  )\n",
       ")"
      ]
     },
     "execution_count": 17,
     "metadata": {},
     "output_type": "execute_result"
    }
   ],
   "source": [
    "\"\"\"Model\"\"\"\n",
    "\n",
    "from torch import nn\n",
    "\n",
    "# Build model\n",
    "class BlobModel(nn.Module):\n",
    "    def __init__(self, input_features=2, output_features=4, hidden_units=8):\n",
    "        super().__init__()\n",
    "        self.linear_layer_stack = nn.Sequential(\n",
    "            nn.Linear(in_features=input_features, out_features=hidden_units),\n",
    "            nn.ReLU(),\n",
    "            nn.Linear(in_features=hidden_units, out_features=hidden_units),\n",
    "            nn.ReLU(),\n",
    "            nn.Linear(in_features=hidden_units, out_features=output_features)\n",
    "        )\n",
    "    \n",
    "    def forward(self, x):\n",
    "        return self.linear_layer_stack(x)\n",
    "\n",
    "# Create an instance of BlobModel and send it to the target device\n",
    "model = BlobModel(input_features=NUM_FEATURES, \n",
    "                    output_features=NUM_CLASSES, \n",
    "                    hidden_units=8).to(device)\n",
    "model"
   ]
  },
  {
   "cell_type": "code",
   "execution_count": 18,
   "metadata": {},
   "outputs": [
    {
     "name": "stdout",
     "output_type": "stream",
     "text": [
      "logits: tensor([[-0.2139, -0.2127, -0.1436, -0.1448]])\n",
      "props: tensor([[0.2412, 0.2415, 0.2588, 0.2585]])\n",
      "sum : 1.0\n",
      "argmax: tensor([2])\n"
     ]
    }
   ],
   "source": [
    "# softmax\n",
    "# sample forward pass\n",
    "with torch.no_grad():\n",
    "    y_logits = model(X_blob_test.to(device))\n",
    "\n",
    "\n",
    "\n",
    "# Perform softmax calculation on logits across dimension 1 to get prediction probabilities\n",
    "y_pred_probs = torch.softmax(y_logits, dim=1) \n",
    "print(f\"logits: {y_logits[:1]}\")\n",
    "print(f\"props: {y_pred_probs[:1]}\")\n",
    "print(f\"sum : {torch.sum(y_pred_probs[0]).item()}\")\n",
    "print(f\"argmax: {torch.argmax(y_pred_probs[:1], dim=1)}\")"
   ]
  },
  {
   "cell_type": "code",
   "execution_count": 20,
   "metadata": {},
   "outputs": [
    {
     "name": "stdout",
     "output_type": "stream",
     "text": [
      "Epoch: 0 | Loss: 1.15883, Acc: 40.38% | Test Loss: 1.15466, Test Acc: 35.50%\n",
      "Epoch: 10 | Loss: 1.14903, Acc: 41.88% | Test Loss: 1.14643, Test Acc: 38.50%\n",
      "Epoch: 20 | Loss: 1.13933, Acc: 45.12% | Test Loss: 1.13826, Test Acc: 42.50%\n",
      "Epoch: 30 | Loss: 1.12973, Acc: 47.00% | Test Loss: 1.13015, Test Acc: 43.50%\n",
      "Epoch: 40 | Loss: 1.12021, Acc: 48.88% | Test Loss: 1.12211, Test Acc: 45.00%\n",
      "Epoch: 50 | Loss: 1.11077, Acc: 50.62% | Test Loss: 1.11412, Test Acc: 46.00%\n",
      "Epoch: 60 | Loss: 1.10142, Acc: 51.50% | Test Loss: 1.10620, Test Acc: 46.50%\n",
      "Epoch: 70 | Loss: 1.09217, Acc: 52.50% | Test Loss: 1.09835, Test Acc: 47.50%\n",
      "Epoch: 80 | Loss: 1.08303, Acc: 53.37% | Test Loss: 1.09058, Test Acc: 47.50%\n",
      "Epoch: 90 | Loss: 1.07399, Acc: 54.75% | Test Loss: 1.08288, Test Acc: 49.00%\n"
     ]
    }
   ],
   "source": [
    "\"\"\"Training loop\"\"\"\n",
    "# Fit the model\n",
    "torch.manual_seed(42)\n",
    "epochs = 100\n",
    "\n",
    "model = BlobModel(input_features=NUM_FEATURES,\n",
    "                    output_features=NUM_CLASSES,\n",
    "                    hidden_units=8).to(device)\n",
    "\n",
    "# Create loss and optimizer\n",
    "loss_fn = nn.CrossEntropyLoss()\n",
    "optimizer = torch.optim.SGD(model.parameters(),lr=0.001)\n",
    "\n",
    "# Put data to target device\n",
    "X_blob_train, y_blob_train = X_blob_train.to(device), y_blob_train.to(device)\n",
    "X_blob_test, y_blob_test = X_blob_test.to(device), y_blob_test.to(device)\n",
    "\n",
    "\n",
    "for epoch in range(epochs):\n",
    "\n",
    "    # 1. Forward pass\n",
    "    y_logits = model(X_blob_train)\n",
    "    y_pred = torch.softmax(y_logits, dim=1).argmax(dim=1) # go from logits -> prediction probabilities -> prediction labels\n",
    "\n",
    "    # 2. Calculate loss and accuracy\n",
    "    loss = loss_fn(y_logits, y_blob_train) \n",
    "    acc = accuracy_fn(y_true=y_blob_train,y_pred=y_pred)\n",
    "\n",
    "    # 3. Optimizer zero grad\n",
    "    optimizer.zero_grad()\n",
    "\n",
    "    # 4. Loss backwards\n",
    "    loss.backward()\n",
    "\n",
    "    # 5. Optimizer step\n",
    "    optimizer.step()\n",
    "\n",
    "    ### Testing\n",
    "    model.eval()\n",
    "    with torch.inference_mode():\n",
    "      # 1. Forward pass\n",
    "      test_logits = model(X_blob_test)\n",
    "      test_pred = torch.softmax(test_logits, dim=1).argmax(dim=1)\n",
    "      # 2. Calculate test loss and accuracy\n",
    "      test_loss = loss_fn(test_logits, y_blob_test)\n",
    "      test_acc = accuracy_fn(y_true=y_blob_test,y_pred=test_pred)\n",
    "\n",
    "    if epoch % 10 == 0:\n",
    "        print(f\"Epoch: {epoch} | Loss: {loss:.5f}, Acc: {acc:.2f}% | Test Loss: {test_loss:.5f}, Test Acc: {test_acc:.2f}%\") "
   ]
  },
  {
   "cell_type": "code",
   "execution_count": null,
   "metadata": {},
   "outputs": [],
   "source": []
  }
 ],
 "metadata": {
  "kernelspec": {
   "display_name": "pytorch-env",
   "language": "python",
   "name": "python3"
  },
  "language_info": {
   "codemirror_mode": {
    "name": "ipython",
    "version": 3
   },
   "file_extension": ".py",
   "mimetype": "text/x-python",
   "name": "python",
   "nbconvert_exporter": "python",
   "pygments_lexer": "ipython3",
   "version": "3.10.13"
  }
 },
 "nbformat": 4,
 "nbformat_minor": 2
}
